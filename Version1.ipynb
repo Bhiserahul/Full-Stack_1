{
  "nbformat": 4,
  "nbformat_minor": 0,
  "metadata": {
    "colab": {
      "provenance": [],
      "authorship_tag": "ABX9TyMPHcagtvBH/P+/Q7GguCdb",
      "include_colab_link": true
    },
    "kernelspec": {
      "name": "python3",
      "display_name": "Python 3"
    },
    "language_info": {
      "name": "python"
    }
  },
  "cells": [
    {
      "cell_type": "markdown",
      "metadata": {
        "id": "view-in-github",
        "colab_type": "text"
      },
      "source": [
        "<a href=\"https://colab.research.google.com/github/Bhiserahul/Full-Stack_1/blob/main/Version1.ipynb\" target=\"_parent\"><img src=\"https://colab.research.google.com/assets/colab-badge.svg\" alt=\"Open In Colab\"/></a>"
      ]
    },
    {
      "cell_type": "code",
      "execution_count": null,
      "metadata": {
        "colab": {
          "base_uri": "https://localhost:8080/"
        },
        "id": "yNbzELbB6KOR",
        "outputId": "b8aff0e9-f588-4c48-bdd8-8388a1cc4eff"
      },
      "outputs": [
        {
          "output_type": "stream",
          "name": "stdout",
          "text": [
            "Enter the score A - 400\n",
            "Enter the score B- 50\n",
            "Team Up\n"
          ]
        }
      ],
      "source": [
        "a= int(input(\"Enter the score A - \"));\n",
        "b= int(input(\"Enter the score B- \"));\n",
        "\n",
        "if a>300 or b>300 and a+b<500:\n",
        "  print (\"Team Up\");\n",
        "else:\n",
        "    print (\"Can't Team Up\");"
      ]
    },
    {
      "cell_type": "code",
      "source": [
        "x = 10\n",
        "if x > 5:\n",
        " print(\"Greater than 5\")\n",
        "if x < 15:\n",
        " print(\"Less than 15\")\n"
      ],
      "metadata": {
        "id": "v-ZkAHgv7SoU",
        "outputId": "e582ef10-bdf6-4651-d7cd-773bd6ca5231",
        "colab": {
          "base_uri": "https://localhost:8080/"
        }
      },
      "execution_count": 1,
      "outputs": [
        {
          "output_type": "stream",
          "name": "stdout",
          "text": [
            "Greater than 5\n",
            "Less than 15\n"
          ]
        }
      ]
    },
    {
      "cell_type": "code",
      "source": [
        "a = 4\n",
        "b = 10\n",
        "z = 8\n",
        "if a > b or b < z and z == 8:\n",
        " print(\"Success\")\n",
        "else:\n",
        " print(\"Fail\")\n"
      ],
      "metadata": {
        "id": "z0uy8rdt_FYH",
        "outputId": "de18140d-33b7-4592-c2df-d3febb8633f7",
        "colab": {
          "base_uri": "https://localhost:8080/"
        }
      },
      "execution_count": 2,
      "outputs": [
        {
          "output_type": "stream",
          "name": "stdout",
          "text": [
            "Fail\n"
          ]
        }
      ]
    },
    {
      "cell_type": "code",
      "source": [
        "s = \"abc\"\n",
        "print(s * 0 + \"def\" * 2)"
      ],
      "metadata": {
        "id": "08mj2SSP_TQF",
        "outputId": "986d5572-835d-4b8e-8ac0-d68e704ebe91",
        "colab": {
          "base_uri": "https://localhost:8080/"
        }
      },
      "execution_count": 3,
      "outputs": [
        {
          "output_type": "stream",
          "name": "stdout",
          "text": [
            "defdef\n"
          ]
        }
      ]
    },
    {
      "cell_type": "code",
      "source": [
        "x = 0\n",
        "y = 10\n",
        "if x and y:\n",
        " print(\"Both are True\")\n",
        "else:\n",
        " print(\"At least one is False\")"
      ],
      "metadata": {
        "id": "m4wCflUznQTq",
        "outputId": "75762925-c3ad-4d37-8eaf-8d76a07df0cd",
        "colab": {
          "base_uri": "https://localhost:8080/"
        }
      },
      "execution_count": 1,
      "outputs": [
        {
          "output_type": "stream",
          "name": "stdout",
          "text": [
            "At least one is False\n"
          ]
        }
      ]
    },
    {
      "cell_type": "code",
      "source": [
        "x = 5\n",
        "y = 3\n",
        "if not (x < y):\n",
        " print(\"True\")\n",
        "else:\n",
        " print(\"False\")"
      ],
      "metadata": {
        "id": "ZyXdD6UoxGkS",
        "outputId": "07f82398-aafd-4a2d-fd10-e9c38eb01efd",
        "colab": {
          "base_uri": "https://localhost:8080/"
        }
      },
      "execution_count": 2,
      "outputs": [
        {
          "output_type": "stream",
          "name": "stdout",
          "text": [
            "True\n"
          ]
        }
      ]
    },
    {
      "cell_type": "code",
      "source": [
        "Age = int(input(\"Enter the age of the Person\"))\n",
        "Mem = input(\"Enter the Membership Status as Y/N-\")\n",
        "if Age<18 or Age>65:\n",
        "    print(\"Eligible for 20% discount \")\n",
        "if Mem ==\"Y\":\n",
        "       if Age>=18 :\n",
        "          if  Age<=30:\n",
        "            print (\"Elibigle for 10% discount\")\n",
        "          else:\n",
        "              print (\"Not Eligible for Discount\")\n",
        "else:\n",
        "     print(\"Not Eligible for Discount\")\n",
        "\n"
      ],
      "metadata": {
        "id": "qCz60xB3-tsX",
        "outputId": "68012518-09c5-4935-e497-0c56c49ab398",
        "colab": {
          "base_uri": "https://localhost:8080/"
        }
      },
      "execution_count": 30,
      "outputs": [
        {
          "output_type": "stream",
          "name": "stdout",
          "text": [
            "Enter the age of the Person29\n",
            "Enter the Membership Status as Y/N-Y\n",
            "Elibigle for 10% discount\n"
          ]
        }
      ]
    },
    {
      "cell_type": "code",
      "source": [
        "num= int(input(\"Enter the Number to check the divisibility of 3 & 5 -\"));\n",
        "if num %3==0:\n",
        "  if num%5==0:\n",
        "    print(\"Number is divisible by both 3 & 5\")\n",
        "  else:\n",
        "    print(\"Number is divisible by 3 but not by 5\")\n",
        "else :\n",
        "  if num%5==0:\n",
        "    print(\"Number is divisible by 5 but not by 3\")\n",
        "  else:\n",
        "    print(\"Number is not divisible by 3 & 5\")\n",
        "\n",
        "\n"
      ],
      "metadata": {
        "id": "CLIpJ3UQqV2m",
        "outputId": "7dcb0f64-a686-47b4-ded3-03f5457cf331",
        "colab": {
          "base_uri": "https://localhost:8080/"
        }
      },
      "execution_count": 35,
      "outputs": [
        {
          "output_type": "stream",
          "name": "stdout",
          "text": [
            "Enter the Number to check the divisibility of 3 & 5 -30\n",
            "Number is divisible by both 3 & 5\n"
          ]
        }
      ]
    },
    {
      "cell_type": "code",
      "source": [
        "a = \"rahul bhise\";\n",
        "print(a[3:8]);\n",
        "print(a[-1:-6]);\n"
      ],
      "metadata": {
        "colab": {
          "base_uri": "https://localhost:8080/"
        },
        "id": "YHnpsbelW4dd",
        "outputId": "816ad21a-715d-4012-ea19-e8052b091136"
      },
      "execution_count": null,
      "outputs": [
        {
          "output_type": "stream",
          "name": "stdout",
          "text": [
            "ul bh\n",
            "\n"
          ]
        }
      ]
    },
    {
      "cell_type": "code",
      "source": [
        "a= \"rahul bhise\";\n",
        "print(a[-9:-4]);\n",
        "print(a[3:8]);\n"
      ],
      "metadata": {
        "colab": {
          "base_uri": "https://localhost:8080/"
        },
        "id": "2q4wmXeVYbIG",
        "outputId": "8c664d2d-8ac8-4170-88d2-fe229f37b1c4"
      },
      "execution_count": null,
      "outputs": [
        {
          "output_type": "stream",
          "name": "stdout",
          "text": [
            "hul b\n",
            "ul bh\n"
          ]
        }
      ]
    },
    {
      "cell_type": "code",
      "source": [
        "A= input(\"Enter a number to check divisibility of 7 -  \");\n",
        "b= int(A[-1])*2;\n",
        "d=len(A);\n",
        "e=A[0:d-1];\n",
        "f= int(e)-b;\n",
        "if d==1 & int(A)%7 == 0:\n",
        "   print (\"Number is divisible by 7\")\n",
        "elif d>1 & f%7 == 0:\n",
        "   print (\"Number is divisible by 7\");\n",
        "else:\n",
        "  print(\"Number is not divisible by 7\");\n",
        "\n",
        "print (d);\n",
        "print (f);\n",
        "print (e);\n",
        "\n"
      ],
      "metadata": {
        "colab": {
          "base_uri": "https://localhost:8080/",
          "height": 234
        },
        "id": "Ll_-xnxjnCmH",
        "outputId": "e40d5c28-fc39-424a-cfcd-af304bdbdf3b"
      },
      "execution_count": null,
      "outputs": [
        {
          "name": "stdout",
          "output_type": "stream",
          "text": [
            "Enter a number to check divisibility of 7 -  2\n"
          ]
        },
        {
          "output_type": "error",
          "ename": "ValueError",
          "evalue": "invalid literal for int() with base 10: ''",
          "traceback": [
            "\u001b[0;31m---------------------------------------------------------------------------\u001b[0m",
            "\u001b[0;31mValueError\u001b[0m                                Traceback (most recent call last)",
            "\u001b[0;32m<ipython-input-9-1eea0d7750e0>\u001b[0m in \u001b[0;36m<cell line: 0>\u001b[0;34m()\u001b[0m\n\u001b[1;32m      3\u001b[0m \u001b[0md\u001b[0m\u001b[0;34m=\u001b[0m\u001b[0mlen\u001b[0m\u001b[0;34m(\u001b[0m\u001b[0mA\u001b[0m\u001b[0;34m)\u001b[0m\u001b[0;34m;\u001b[0m\u001b[0;34m\u001b[0m\u001b[0;34m\u001b[0m\u001b[0m\n\u001b[1;32m      4\u001b[0m \u001b[0me\u001b[0m\u001b[0;34m=\u001b[0m\u001b[0mA\u001b[0m\u001b[0;34m[\u001b[0m\u001b[0;36m0\u001b[0m\u001b[0;34m:\u001b[0m\u001b[0md\u001b[0m\u001b[0;34m-\u001b[0m\u001b[0;36m1\u001b[0m\u001b[0;34m]\u001b[0m\u001b[0;34m;\u001b[0m\u001b[0;34m\u001b[0m\u001b[0;34m\u001b[0m\u001b[0m\n\u001b[0;32m----> 5\u001b[0;31m \u001b[0mf\u001b[0m\u001b[0;34m=\u001b[0m \u001b[0mint\u001b[0m\u001b[0;34m(\u001b[0m\u001b[0me\u001b[0m\u001b[0;34m)\u001b[0m\u001b[0;34m-\u001b[0m\u001b[0mb\u001b[0m\u001b[0;34m;\u001b[0m\u001b[0;34m\u001b[0m\u001b[0;34m\u001b[0m\u001b[0m\n\u001b[0m\u001b[1;32m      6\u001b[0m \u001b[0;32mif\u001b[0m \u001b[0md\u001b[0m\u001b[0;34m==\u001b[0m\u001b[0;36m1\u001b[0m \u001b[0;34m&\u001b[0m \u001b[0mint\u001b[0m\u001b[0;34m(\u001b[0m\u001b[0mA\u001b[0m\u001b[0;34m)\u001b[0m\u001b[0;34m%\u001b[0m\u001b[0;36m7\u001b[0m \u001b[0;34m==\u001b[0m \u001b[0;36m0\u001b[0m\u001b[0;34m:\u001b[0m\u001b[0;34m\u001b[0m\u001b[0;34m\u001b[0m\u001b[0m\n\u001b[1;32m      7\u001b[0m    \u001b[0mprint\u001b[0m \u001b[0;34m(\u001b[0m\u001b[0;34m\"Number is divisible by 7\"\u001b[0m\u001b[0;34m)\u001b[0m\u001b[0;34m\u001b[0m\u001b[0;34m\u001b[0m\u001b[0m\n",
            "\u001b[0;31mValueError\u001b[0m: invalid literal for int() with base 10: ''"
          ]
        }
      ]
    },
    {
      "cell_type": "code",
      "source": [
        "a=input(\"Enter the sign chosen by Abhinav- \")\n",
        "b=input(\"Enter the sign chosen by Rahul- \")\n",
        "if a==b:\n",
        "  print (\"Match Draw\")\n",
        "elif a==\"paper\"and b==\"rock\":\n",
        "   print(\"Abhinav Wins\")\n",
        "elif a==\"scissior\"and b==\"paper\":\n",
        "   print(\"Abhinav Wins\")\n",
        "elif a==\"rock\"and b==\"scissior\":\n",
        "   print(\"Abhinav Wins\")\n",
        "else:\n",
        "  print(\"Rahul Wins\")\n",
        "\n"
      ],
      "metadata": {
        "colab": {
          "base_uri": "https://localhost:8080/"
        },
        "id": "Dfi1bV4_mTGn",
        "outputId": "145f33fc-6a18-4e79-fabd-43a546d8423e"
      },
      "execution_count": null,
      "outputs": [
        {
          "output_type": "stream",
          "name": "stdout",
          "text": [
            "Enter the sign chosen by Abhinav- rock\n",
            "Enter the sign chosen by Rahul- rock\n",
            "Match Draw\n"
          ]
        }
      ]
    },
    {
      "cell_type": "code",
      "source": [
        "a=int(input(\"Enter Number of Students in Class room\"))\n",
        "print(\"Number of Handshake is classroom \",a*(a-1)/2)"
      ],
      "metadata": {
        "colab": {
          "base_uri": "https://localhost:8080/"
        },
        "id": "49oD7X-IoaLd",
        "outputId": "dc610ea8-dd0f-4dbe-c79e-932a42ba678a"
      },
      "execution_count": null,
      "outputs": [
        {
          "output_type": "stream",
          "name": "stdout",
          "text": [
            "Enter Number of Students in Class room5\n",
            "Number of Handshake is classroom  10.0\n"
          ]
        }
      ]
    },
    {
      "cell_type": "code",
      "source": [],
      "metadata": {
        "id": "1xx3fYe8pAfB"
      },
      "execution_count": null,
      "outputs": []
    },
    {
      "cell_type": "code",
      "source": [
        "a= int(input(\"Enter the Number of days - \"))\n",
        "\n",
        "if a <= 365:\n",
        "  print(\"MM\",int(a/30) ,\"DD\",int(a%30))\n",
        "  print(\"MM\", int(a/30), \"WW\",int(a%365/7),\"DD\",int(a%30))\n",
        "\n",
        "else:\n",
        "  print(\"YY\",int(a/365) ,\"MM\",int(a%365/30),\"DD\",int(a%365)%30)\n",
        "  print(\"YY\",int(a/365),\"WW\",int(a%365/7),\"DD\",int(a%365)%7)\n",
        "\n",
        "\n",
        "\n"
      ],
      "metadata": {
        "colab": {
          "base_uri": "https://localhost:8080/"
        },
        "id": "Qcxg9qp2rEhu",
        "outputId": "513c52fd-3912-4200-ff66-bbde1b6a4360"
      },
      "execution_count": null,
      "outputs": [
        {
          "output_type": "stream",
          "name": "stdout",
          "text": [
            "Enter the Number of days - 1000\n",
            "YY 2 MM 9 DD 0\n",
            "YY 2 WW 38 DD 4\n"
          ]
        }
      ]
    },
    {
      "cell_type": "code",
      "source": [
        "a=int(input(\"Enter the number of Units Consumed \"))\n",
        "if a<=50:\n",
        "  print(\"Your Electricity Bill is \",(a*2)*1.2,\"INR\")\n",
        "elif a>50 and a<=150:\n",
        "  print(\"Your Electricity Bill is \",(50*2+(a-50)*3)*1.2,\"INR\")\n",
        "elif a>50 and a<=250:\n",
        "  print(\"Your Electricity Bill is \",(50*2+100*3+(a-150)*5)*1.2,\"INR\")\n",
        "else:\n",
        "  print(\"Your Electricity Bill is \",(50*2+100*3+100*5+(a-250)*8)*1.2,\"INR\")\n"
      ],
      "metadata": {
        "colab": {
          "base_uri": "https://localhost:8080/"
        },
        "id": "tJuHZ7ZLEGlJ",
        "outputId": "f031a3ce-4cda-4fd2-ad03-236fb19cbe95"
      },
      "execution_count": null,
      "outputs": [
        {
          "output_type": "stream",
          "name": "stdout",
          "text": [
            "Enter the number of Units Consumed 450\n",
            "Your Electricity Bill is  3000.0 INR\n"
          ]
        }
      ]
    },
    {
      "cell_type": "code",
      "source": [
        "a= int(input(\"Enter the first Number \"))\n",
        "b= int(input(\"Enter the Second Number \"))\n",
        "\n",
        "if a==6 or b==6 or a+b==6 or a-b==6 or b-a==6:\n",
        "  print(\"Lucky\")\n",
        "\n",
        "else:\n",
        " print(\"Not Lucky\")\n",
        "\n",
        "c= (a==6) or (b==6) or a+b==6\n",
        "d= a-b==6 or b-a==6\n",
        "if c==True or d==True:\n",
        "  print(\"Lucky\")\n",
        "else:\n",
        "  print(\"Not Lucky\")"
      ],
      "metadata": {
        "colab": {
          "base_uri": "https://localhost:8080/"
        },
        "id": "OZvvVz9IQIO6",
        "outputId": "542a583e-b0f9-448d-c059-16e6bf5a6081"
      },
      "execution_count": null,
      "outputs": [
        {
          "output_type": "stream",
          "name": "stdout",
          "text": [
            "Enter the first Number 18\n",
            "Enter the Second Number 12\n",
            "Lucky\n",
            "Lucky\n"
          ]
        }
      ]
    },
    {
      "cell_type": "code",
      "source": [
        "# Program to print first 10 even number\n",
        "num= int(input(\"Enter the Number to print even numbers in reverse Order\"))\n",
        "for i in range(num,0,-1):\n",
        "  if i%2==0:\n",
        "    print(i)\n",
        "\n",
        "#while num>0:\n",
        "    print (num )\n",
        "\n"
      ],
      "metadata": {
        "id": "D25ntszX8C-A",
        "colab": {
          "base_uri": "https://localhost:8080/"
        },
        "outputId": "66807ed3-f390-4d5c-bb76-870e09b07c38"
      },
      "execution_count": null,
      "outputs": [
        {
          "output_type": "stream",
          "name": "stdout",
          "text": [
            "Enter the Number to print even numbers in reverse Order6\n",
            "6\n",
            "4\n",
            "2\n"
          ]
        }
      ]
    },
    {
      "cell_type": "code",
      "source": [
        "a = int(input(\"Enter the Number to check the divisibility of 7\"));\n",
        "if a%7==0:\n",
        "  print (\"Number is divisible by 7\");\n",
        "else:\n",
        "  print (\"Number is not divisible by 7\");\n",
        "\n",
        "\n"
      ],
      "metadata": {
        "colab": {
          "base_uri": "https://localhost:8080/"
        },
        "id": "bK_qYHl492Ar",
        "outputId": "22b3771e-c7b1-43c5-8011-c16c9522f186"
      },
      "execution_count": null,
      "outputs": [
        {
          "output_type": "stream",
          "name": "stdout",
          "text": [
            "Enter the Number to check the divisibility of 77\n",
            "Number is divisible by 7\n"
          ]
        }
      ]
    },
    {
      "cell_type": "code",
      "source": [
        "# SUM of first N odd Numbers.\n",
        "a=int(input(\"Enter the Number to calculate summation of Odd number \"))\n",
        "total=0\n",
        "i=1\n",
        "while i<=a:\n",
        "      total+=i\n",
        "      i+=2\n",
        "\n",
        "print(total)\n",
        "\n",
        "\n"
      ],
      "metadata": {
        "colab": {
          "base_uri": "https://localhost:8080/"
        },
        "id": "20BxYxzOlrHv",
        "outputId": "d96a5344-46d8-4537-b4da-36f214fc6ae1"
      },
      "execution_count": null,
      "outputs": [
        {
          "output_type": "stream",
          "name": "stdout",
          "text": [
            "Enter the Number to calculate summation of Odd number 12\n",
            "36\n"
          ]
        }
      ]
    },
    {
      "cell_type": "code",
      "source": [
        "# Check the String is Palindrome or not#\n",
        "String = input (\"Enter the String to Check \")\n",
        "rev=''\n",
        "for char in String:\n",
        "  rev=char+rev\n",
        "if String==rev:\n",
        "  print(\"String is Palindrome\")\n",
        "else:\n",
        "  print(\"String is not Palindrome\")\n"
      ],
      "metadata": {
        "colab": {
          "base_uri": "https://localhost:8080/"
        },
        "id": "zWdencpAmQpL",
        "outputId": "18a71ab0-c0e8-4959-eaf6-024d4d9b6d4c"
      },
      "execution_count": null,
      "outputs": [
        {
          "output_type": "stream",
          "name": "stdout",
          "text": [
            "Enter the String to Check level\n",
            "String is Palindrome\n"
          ]
        }
      ]
    },
    {
      "cell_type": "code",
      "source": [
        "# To Calculte HCF of the given 2 numbers\n",
        "num1 = int(input(\"Enter the first Number \"))\n",
        "num2 = int(input(\"Enter the Second Number \"))\n",
        "while num2 != 0:\n",
        "  num1, num2 = num2, num1 % num2;\n",
        "\n",
        "print(num1)\n",
        "\n"
      ],
      "metadata": {
        "colab": {
          "base_uri": "https://localhost:8080/"
        },
        "id": "yWJQwulXyQA6",
        "outputId": "1cfe7d07-96ed-4d13-ad1b-01bb8b6e7d3f"
      },
      "execution_count": null,
      "outputs": [
        {
          "output_type": "stream",
          "name": "stdout",
          "text": [
            "Enter the first Number 11\n",
            "Enter the Second Number 23\n",
            "1\n"
          ]
        }
      ]
    },
    {
      "cell_type": "code",
      "source": [
        "#Sum of Sum of the Natural Numbers\n",
        "#1 + 1+2 + 1+2+3 + 1+2+3+4 + ..........+ 1+2+3+4+......n\n",
        "num1= int(input(\"Enter the Number to find the sum of sum of natural numbers \"))\n",
        "k=0\n",
        "for i in range(1,num1+1):\n",
        "  for j in range(1,i+1):\n",
        "    k+=j\n",
        "    print(j)\n",
        "print (\"The Summation is - \",k)\n",
        "\n",
        "\n"
      ],
      "metadata": {
        "colab": {
          "base_uri": "https://localhost:8080/"
        },
        "id": "FrfsVcX_UX_n",
        "outputId": "4491a2d4-c03d-4e4c-866a-6c1e047c09a8"
      },
      "execution_count": null,
      "outputs": [
        {
          "output_type": "stream",
          "name": "stdout",
          "text": [
            "Enter the Number to find the sum of sum of natural numbers 3\n",
            "1\n",
            "1\n",
            "2\n",
            "1\n",
            "2\n",
            "3\n",
            "The Summation is - 10\n"
          ]
        }
      ]
    },
    {
      "cell_type": "code",
      "source": [
        "# Program to calculate remainder without %,/, //\n",
        "num1= int(input(\"Enter the first Number \"))\n",
        "num2= int(input(\"Enter the Second Number \"))\n",
        "\n",
        "def fun(num1,num2):\n",
        "    if num1<num2:\n",
        "       return(num1)\n",
        "    return fun(num1-num2,num2)\n",
        "print (fun(num1,num2))\n",
        "print (num1%num2)\n",
        "#print (num1//num2)\n",
        "#print (num2%num1)\n",
        "#print (num2//num1)\n",
        "\n"
      ],
      "metadata": {
        "colab": {
          "base_uri": "https://localhost:8080/"
        },
        "id": "VIB9iJz1Tjp_",
        "outputId": "a5aee1a9-5db1-4fc9-a937-51e0da70986d"
      },
      "execution_count": null,
      "outputs": [
        {
          "output_type": "stream",
          "name": "stdout",
          "text": [
            "Enter the first Number 45\n",
            "Enter the Second Number 2\n",
            "1\n",
            "1\n"
          ]
        }
      ]
    },
    {
      "cell_type": "code",
      "source": [
        "# Sum the Series like 2^0+2^1+2^2+2^3+.......2^n-1\n",
        "#Using recursive Method ----1\n",
        "#Using Iterative Method ----2\n",
        "n=int(input(\"Enter the Number to calculate the sum series \"))\n",
        "def iterative(n):\n",
        "  total=0\n",
        "  for i in range(n):\n",
        "   total += 2**i\n",
        "  return total\n",
        "\n",
        "print (\"Iterative n\",(iterative(n)))\n",
        "\n",
        "def recursive(n):\n",
        "  if n==1:\n",
        "    return 1\n",
        "  return 2**(n-1)+recursive(n-1)\n",
        "\n",
        "print (\"Recursive n\",(recursive(n)))\n",
        "\n",
        "\n"
      ],
      "metadata": {
        "colab": {
          "base_uri": "https://localhost:8080/"
        },
        "id": "KWJ0GGzAIrXO",
        "outputId": "f2f7cd3a-1159-483e-c4a3-eb6b892ed1f8"
      },
      "execution_count": null,
      "outputs": [
        {
          "output_type": "stream",
          "name": "stdout",
          "text": [
            "Enter the Number to calculate the sum series 2\n",
            "Iterative n 3\n",
            "Recursive n 3\n"
          ]
        }
      ]
    },
    {
      "cell_type": "code",
      "source": [
        "num= int(input(\"Enter the KM covered to calculate the bill \"))\n",
        "if num<=10:\n",
        "  print (\"You Travel\",num,\"KM\",\"Bill Amount is \",num*11)\n",
        "\n",
        "elif num>10 and num <=100:\n",
        "  print (\"You Travel\",num,\"KM\",\"Bill Amount is \", num*10)\n",
        "else:\n",
        "  print (\"You Travel\",num,\"KM\",\"Bill Amount is \", num*9)\n",
        "\n",
        "\n"
      ],
      "metadata": {
        "colab": {
          "base_uri": "https://localhost:8080/"
        },
        "id": "36vfhdyU2NCM",
        "outputId": "362c7d39-57d2-4892-e9d3-948985898b62"
      },
      "execution_count": null,
      "outputs": [
        {
          "output_type": "stream",
          "name": "stdout",
          "text": [
            "Enter the KM covered to calculate the bill120\n",
            "Bill Amount is  1080\n"
          ]
        }
      ]
    },
    {
      "cell_type": "code",
      "source": [
        "# Vowel from Input String\n",
        "Int_String=input(\"Enter the string \").lower()\n",
        "vowel=0\n",
        "for char in Int_String:\n",
        "  if char=='a' or char=='e' or char=='i' or char=='o' or char=='u':\n",
        "    vowel+=1\n",
        "print(\" Vowel Count is \",vowel)\n"
      ],
      "metadata": {
        "colab": {
          "base_uri": "https://localhost:8080/"
        },
        "id": "ZyW5FjES1bZm",
        "outputId": "e9dd311f-ff1e-4f1d-b840-fe1d3dec1d87"
      },
      "execution_count": null,
      "outputs": [
        {
          "output_type": "stream",
          "name": "stdout",
          "text": [
            "Enter the string INDIAN\n",
            " Vowel Count is  3\n"
          ]
        }
      ]
    },
    {
      "cell_type": "code",
      "source": [],
      "metadata": {
        "id": "ciEP9zDLwf5p"
      },
      "execution_count": null,
      "outputs": []
    }
  ]
}