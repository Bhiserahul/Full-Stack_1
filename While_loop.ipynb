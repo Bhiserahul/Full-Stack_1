{
  "nbformat": 4,
  "nbformat_minor": 0,
  "metadata": {
    "colab": {
      "provenance": [],
      "authorship_tag": "ABX9TyMI1GM4x6qwR5hK3gvFQ7Mz",
      "include_colab_link": true
    },
    "kernelspec": {
      "name": "python3",
      "display_name": "Python 3"
    },
    "language_info": {
      "name": "python"
    }
  },
  "cells": [
    {
      "cell_type": "markdown",
      "metadata": {
        "id": "view-in-github",
        "colab_type": "text"
      },
      "source": [
        "<a href=\"https://colab.research.google.com/github/Bhiserahul/Full-Stack_1/blob/main/While_loop.ipynb\" target=\"_parent\"><img src=\"https://colab.research.google.com/assets/colab-badge.svg\" alt=\"Open In Colab\"/></a>"
      ]
    },
    {
      "cell_type": "code",
      "execution_count": null,
      "metadata": {
        "colab": {
          "base_uri": "https://localhost:8080/"
        },
        "id": "QJYROOZjYkM8",
        "outputId": "2f7cee5a-56cc-49e9-9b48-95006c6d0129"
      },
      "outputs": [
        {
          "output_type": "stream",
          "name": "stdout",
          "text": [
            "Enter the number to start - 3\n",
            "Enter the Even Number\n"
          ]
        }
      ],
      "source": [
        "# Program to print 10 even numbers\n",
        "num=int(input(\"Enter the number to start - \"))\n",
        "c=0  # Initialisation\n",
        "if num % 2 == 0:\n",
        "  while c<=8: #while Termination\n",
        "   num+=2 #Block Code\n",
        "   print (num)\n",
        "   c=c+1  # Updation\n",
        "else :\n",
        "  print (\"Enter the Even Number\")\n"
      ]
    },
    {
      "cell_type": "code",
      "source": [
        "# Program to print 10 Odd numbers\n",
        "num=int(input(\"Enter the number to start - \"))\n",
        "c=0  # Initialisation\n",
        "if num % 2 != 0:\n",
        "  while c<=8: #while Termination\n",
        "   num+=2 #Block Code\n",
        "   print (num)\n",
        "   c=c+1  # Updation\n",
        "else :\n",
        "  print (\"Enter the Odd Number\")"
      ],
      "metadata": {
        "colab": {
          "base_uri": "https://localhost:8080/"
        },
        "collapsed": true,
        "id": "GMXj5QWybP89",
        "outputId": "b41f1228-b7aa-4781-aedb-ec56841f0895"
      },
      "execution_count": null,
      "outputs": [
        {
          "output_type": "stream",
          "name": "stdout",
          "text": [
            "Enter the number to start - -1\n",
            "1\n",
            "3\n",
            "5\n",
            "7\n",
            "9\n",
            "11\n",
            "13\n",
            "15\n",
            "17\n"
          ]
        }
      ]
    },
    {
      "cell_type": "code",
      "source": [
        "# Program to print 10 Natural numbers\n",
        "num=int(input(\"Enter the number to start - \"))\n",
        "c=0  # Initialisation\n",
        "if num>0:\n",
        "  while c<=9:\n",
        "     print (num)\n",
        "     num+=1 #Block Code\n",
        "     c=c+1  # Updation\n",
        "else:\n",
        "  print (\"Enter the Natural Number\")"
      ],
      "metadata": {
        "colab": {
          "base_uri": "https://localhost:8080/"
        },
        "collapsed": true,
        "id": "hFZIG3ozdbOg",
        "outputId": "35c9eaaf-d50b-4978-915e-40db0005675a"
      },
      "execution_count": null,
      "outputs": [
        {
          "output_type": "stream",
          "name": "stdout",
          "text": [
            "Enter the number to start - 1\n",
            "1\n",
            "2\n",
            "3\n",
            "4\n",
            "5\n",
            "6\n",
            "7\n",
            "8\n",
            "9\n",
            "10\n"
          ]
        }
      ]
    },
    {
      "cell_type": "code",
      "source": [
        "# Program to find the sum of the digits of a number accepted from the user\n",
        "num=input(\"Enter the number\")\n",
        "s=0\n",
        "c=0\n",
        "while c<len(num):\n",
        "  s=s+int(num[c])\n",
        "  c=c+1\n",
        "print (\"Sum of the Digit is -\" , s)\n"
      ],
      "metadata": {
        "colab": {
          "base_uri": "https://localhost:8080/"
        },
        "id": "f0qfTPENeQaV",
        "outputId": "45516749-235e-4e06-bcd7-667cf3d004d7"
      },
      "execution_count": null,
      "outputs": [
        {
          "output_type": "stream",
          "name": "stdout",
          "text": [
            "Enter the number1234\n",
            "Sum of the Digit is - 10\n"
          ]
        }
      ]
    },
    {
      "cell_type": "code",
      "source": [
        "# program to print all the characters in the string ‘PYTHON’ using While loop\n",
        "s=\"PYTHON\"\n",
        "c=0\n",
        "while c<len(s):\n",
        "  print (s[c])\n",
        "  c=c+1\n"
      ],
      "metadata": {
        "colab": {
          "base_uri": "https://localhost:8080/"
        },
        "collapsed": true,
        "id": "fuE2VN1XfnzX",
        "outputId": "60832ad8-fa8e-4de7-cf2b-b9927b0e6831"
      },
      "execution_count": null,
      "outputs": [
        {
          "output_type": "stream",
          "name": "stdout",
          "text": [
            "6\n",
            "P\n",
            "Y\n",
            "T\n",
            "H\n",
            "O\n",
            "N\n"
          ]
        }
      ]
    },
    {
      "cell_type": "code",
      "source": [
        "# program to print reverse all the characters in the string ‘PYTHON’ using While loop\n",
        "s=\"PYTHON\"\n",
        "c=len(s)-1\n",
        "while c>=0:\n",
        "  print (s[c])\n",
        "  c=c-1"
      ],
      "metadata": {
        "colab": {
          "base_uri": "https://localhost:8080/"
        },
        "collapsed": true,
        "id": "Z7exaPtIkYy9",
        "outputId": "26f28e9f-e1fa-4940-aa78-f9b472aaedf5"
      },
      "execution_count": null,
      "outputs": [
        {
          "output_type": "stream",
          "name": "stdout",
          "text": [
            "N\n",
            "O\n",
            "H\n",
            "T\n",
            "Y\n",
            "P\n"
          ]
        }
      ]
    },
    {
      "cell_type": "code",
      "source": [
        "num=int(input(\"Enter the first natural number to start - \"))\n",
        "c=1\n",
        "sum=0  # Initialisation\n",
        "while   c<=10:\n",
        "        sum=sum+num\n",
        "        num+=1\n",
        "        print(sum)\n",
        "        c=c+1  # Updation\n",
        "print (\"Sum of 10 Natural Numbers is - \" , sum)"
      ],
      "metadata": {
        "colab": {
          "base_uri": "https://localhost:8080/"
        },
        "collapsed": true,
        "id": "zwpGDRdqh0kt",
        "outputId": "919e88b7-3e97-4509-e479-bf0e38dac360"
      },
      "execution_count": null,
      "outputs": [
        {
          "output_type": "stream",
          "name": "stdout",
          "text": [
            "Enter the first natural number to start - 1\n",
            "1\n",
            "3\n",
            "6\n",
            "10\n",
            "15\n",
            "21\n",
            "28\n",
            "36\n",
            "45\n",
            "55\n",
            "Sum of 10 Natural Numbers is -  55\n"
          ]
        }
      ]
    },
    {
      "cell_type": "code",
      "source": [
        "num=int(input(\"Enter the first ten even number to start - \"))\n",
        "c=1\n",
        "sum=0  # Initialisation\n",
        "while   c<=10:\n",
        "        sum=sum+num\n",
        "        num+=2\n",
        "        print(sum)\n",
        "        c=c+1  # Updation\n",
        "print (\"Sum of 10 Even Numbers is - \" , sum)"
      ],
      "metadata": {
        "colab": {
          "base_uri": "https://localhost:8080/"
        },
        "id": "t393SLmf3kEl",
        "outputId": "2d768d49-6909-4e96-d887-7ce4fb003f55"
      },
      "execution_count": null,
      "outputs": [
        {
          "output_type": "stream",
          "name": "stdout",
          "text": [
            "Enter the first even number to start - 2\n",
            "2\n",
            "6\n",
            "12\n",
            "20\n",
            "30\n",
            "42\n",
            "56\n",
            "72\n",
            "90\n",
            "110\n",
            "Sum of 10 Even Numbers is -  110\n"
          ]
        }
      ]
    },
    {
      "cell_type": "code",
      "source": [
        "num=int(input(\"Enter the number to print the table\"))\n",
        "c=1\n",
        "while   c<=10:\n",
        "        print(num,\"*\",c,\"=\",num*c)\n",
        "        c=c+1\n"
      ],
      "metadata": {
        "colab": {
          "base_uri": "https://localhost:8080/"
        },
        "collapsed": true,
        "id": "_d8SZEsW4xmn",
        "outputId": "f4cb1889-d702-4d3a-b00c-36d6b8a9bfc3"
      },
      "execution_count": null,
      "outputs": [
        {
          "output_type": "stream",
          "name": "stdout",
          "text": [
            "Enter the number to print the table3\n",
            "3 * 1 = 3\n",
            "3 * 2 = 6\n",
            "3 * 3 = 9\n",
            "3 * 4 = 12\n",
            "3 * 5 = 15\n",
            "3 * 6 = 18\n",
            "3 * 7 = 21\n",
            "3 * 8 = 24\n",
            "3 * 9 = 27\n",
            "3 * 10 = 30\n"
          ]
        }
      ]
    },
    {
      "cell_type": "code",
      "source": [
        "#Print the Factorial of Number- 3,2,1\n",
        "num = int(input(\"Enter the number to calculate factorial \"))\n",
        "if num<0:\n",
        "    print(\"Enter the Positive Number\")\n",
        "elif num==0 or num==1:\n",
        " print(\"Factorial is 1\")\n",
        "else:\n",
        "    fact=1\n",
        "    while num>1:\n",
        "          fact=fact*num\n",
        "          num-=1\n",
        "    print(\" factorial is \",fact)\n",
        "\n",
        "\n",
        "\n",
        "\n"
      ],
      "metadata": {
        "id": "qSFJNKmG5SAY",
        "colab": {
          "base_uri": "https://localhost:8080/"
        },
        "outputId": "c7d8b637-215b-4855-a2dd-0845b85ee6d1"
      },
      "execution_count": null,
      "outputs": [
        {
          "output_type": "stream",
          "name": "stdout",
          "text": [
            "Enter the number to calculate factorial 0\n",
            "Factorial is 1\n"
          ]
        }
      ]
    },
    {
      "cell_type": "code",
      "source": [
        "# Program to reverse print the number\n",
        "num=int(input(\"Enter the number to reverse print \"))\n",
        "r=0\n",
        "reversenumber=0\n",
        "while num>0:\n",
        "    r=num%10\n",
        "    reversenumber=reversenumber*10+r\n",
        "    num=num//10\n",
        "print(reversenumber)\n"
      ],
      "metadata": {
        "colab": {
          "base_uri": "https://localhost:8080/"
        },
        "id": "A0V7dviENBr1",
        "outputId": "004eb936-270d-41eb-e7af-9c3b69b3df55"
      },
      "execution_count": null,
      "outputs": [
        {
          "output_type": "stream",
          "name": "stdout",
          "text": [
            "Enter the number to reverse print 0\n",
            "0\n"
          ]
        }
      ]
    },
    {
      "cell_type": "code",
      "source": [
        "# Program to find the factor of given number\n",
        "n=int(input(\"Enter the number to find the factor \"))\n",
        "i=1\n",
        "while i<=n:\n",
        "    if n%i==0:\n",
        "        print(i,end=\" \")\n",
        "    i=i+1\n",
        "\n",
        "\n",
        "\n"
      ],
      "metadata": {
        "colab": {
          "base_uri": "https://localhost:8080/"
        },
        "id": "8-0KKMwRbCaY",
        "outputId": "107bc92e-f809-4271-a4a6-1ea5495171f7"
      },
      "execution_count": null,
      "outputs": [
        {
          "output_type": "stream",
          "name": "stdout",
          "text": [
            "Enter the number to find the factor 21\n",
            "1 3 7 21 "
          ]
        }
      ]
    },
    {
      "cell_type": "code",
      "source": [
        "# Program to find the product of given number.\n",
        "n=int(input(\"Enter the number to find the product \"))\n",
        "i=0\n",
        "product=1\n",
        "while n>0:\n",
        "  i=n%10\n",
        "  product=product*i\n",
        "  n=n//10\n",
        "\n",
        "print(product)\n"
      ],
      "metadata": {
        "colab": {
          "base_uri": "https://localhost:8080/"
        },
        "id": "FxpCPDZugaj-",
        "outputId": "808787da-008e-498b-e3ab-54a28c9d07d6"
      },
      "execution_count": null,
      "outputs": [
        {
          "output_type": "stream",
          "name": "stdout",
          "text": [
            "Enter the number to find the product 158\n",
            "40\n"
          ]
        }
      ]
    },
    {
      "cell_type": "code",
      "source": [
        "x = 3\n",
        "y = 7\n",
        "if x < 5 and not (y < 10 or x > 1):\n",
        " print(\"True\")\n",
        "else:\n",
        " print(\"False\")"
      ],
      "metadata": {
        "colab": {
          "base_uri": "https://localhost:8080/"
        },
        "id": "BfkKsnx_hI4U",
        "outputId": "8500b77c-b036-40fc-aba4-1d2270d858fe"
      },
      "execution_count": 10,
      "outputs": [
        {
          "output_type": "stream",
          "name": "stdout",
          "text": [
            "False\n"
          ]
        }
      ]
    },
    {
      "cell_type": "code",
      "source": [
        "#Write a program to print the following series 105, 98 ,91 , ............. 7\n",
        "i=105\n",
        "while i>=7:\n",
        "      print (i,end=\" \")\n",
        "      i=i-7\n"
      ],
      "metadata": {
        "colab": {
          "base_uri": "https://localhost:8080/"
        },
        "id": "xlpIwqgai9nd",
        "outputId": "e241fc8a-af7a-4e07-d1ce-c43c0021da78"
      },
      "execution_count": 17,
      "outputs": [
        {
          "output_type": "stream",
          "name": "stdout",
          "text": [
            "105 98 91 84 77 70 63 56 49 42 35 28 21 14 7 "
          ]
        }
      ]
    },
    {
      "cell_type": "code",
      "source": [
        "#Program to find all numbers divisible by 13 not by 3 frm 100 to 500\n",
        "i=100\n",
        "while i<=500:\n",
        "  if i%13==0 and i%3!=0:\n",
        "    print(i,end=\" \")\n",
        "  i=i+1\n",
        "\n"
      ],
      "metadata": {
        "colab": {
          "base_uri": "https://localhost:8080/"
        },
        "id": "qOHWYu5Hk3Cg",
        "outputId": "bf8b5445-1684-4e8c-f32e-9e0b75ad3a3d"
      },
      "execution_count": 18,
      "outputs": [
        {
          "output_type": "stream",
          "name": "stdout",
          "text": [
            "104 130 143 169 182 208 221 247 260 286 299 325 338 364 377 403 416 442 455 481 494 "
          ]
        }
      ]
    },
    {
      "cell_type": "code",
      "source": [
        "# Program to find the product of given number as string .\n",
        "n=input(\"Enter the number to find the product \")\n",
        "i=0\n",
        "product=1\n",
        "while i<len(n):\n",
        "  product=product*int(n[i])\n",
        "  i=i+1\n",
        "\n",
        "print(product)\n"
      ],
      "metadata": {
        "colab": {
          "base_uri": "https://localhost:8080/"
        },
        "id": "M9EjWnjqa4bA",
        "outputId": "004216f7-f959-4a77-d0bc-681d955c5711"
      },
      "execution_count": null,
      "outputs": [
        {
          "output_type": "stream",
          "name": "stdout",
          "text": [
            "Enter the number to find the product 158\n",
            "40\n"
          ]
        }
      ]
    },
    {
      "cell_type": "code",
      "source": [
        "# Program to find Palindrome or not.\n",
        "n=int(input(\"Enter the number to check \"))\n",
        "onum=n\n",
        "rnum=0\n",
        "r=0\n",
        "while n>0:\n",
        "  r=n%10\n",
        "  rnum=rnum*10+r\n",
        "  n=n//10\n",
        "if int(onum)==rnum:\n",
        "  print(\"Palindrome Number\")\n",
        "else:\n",
        "  print(\"Not Palindrome Number\")\n"
      ],
      "metadata": {
        "colab": {
          "base_uri": "https://localhost:8080/"
        },
        "id": "Hb3dMAkTne9D",
        "outputId": "3e372b9f-bccd-439c-a1df-4b2a3577b9cf"
      },
      "execution_count": 21,
      "outputs": [
        {
          "output_type": "stream",
          "name": "stdout",
          "text": [
            "Enter the number to check 111\n",
            "Palindrome Number\n"
          ]
        }
      ]
    },
    {
      "cell_type": "code",
      "source": [
        "# Program to print the reverse of given number .\n",
        "n=int(input(\"Enter the number to reverse print \"))\n",
        "r=0\n",
        "reversenumber=0\n",
        "while n!=0:\n",
        "      r=n%10\n",
        "      reversenumber=reversenumber*10+r\n",
        "      n=n//10\n",
        "print(reversenumber)"
      ],
      "metadata": {
        "colab": {
          "base_uri": "https://localhost:8080/"
        },
        "id": "kO0jJBVDcF0r",
        "outputId": "1baec889-871e-46ac-891d-eb78f989c08b"
      },
      "execution_count": null,
      "outputs": [
        {
          "output_type": "stream",
          "name": "stdout",
          "text": [
            "Enter the number to reverse print 12345\n",
            "54321\n"
          ]
        }
      ]
    },
    {
      "cell_type": "code",
      "source": [
        "# Program to print Armstrong Numbers.\n",
        "n=input(\"Enter the number to check \")\n",
        "#l=len(n)\n",
        "c=0\n",
        "b=0\n",
        "while c<len(n):\n",
        "  b=b+int(n[c])**len(n)\n",
        "  c=c+1\n",
        "if int(n)==b:\n",
        "  print(\"Armstrong Number\")\n",
        "else:\n",
        "  print(\"Not Armstrong Number\")\n",
        "\n",
        "\n",
        "\n"
      ],
      "metadata": {
        "colab": {
          "base_uri": "https://localhost:8080/"
        },
        "id": "JUVbemJnjqE1",
        "outputId": "2f0b5ff6-67ed-491c-fbac-48ca29bf7798"
      },
      "execution_count": null,
      "outputs": [
        {
          "output_type": "stream",
          "name": "stdout",
          "text": [
            "Enter the number to check 1\n",
            "Armstrong Number\n"
          ]
        }
      ]
    },
    {
      "cell_type": "code",
      "source": [
        "#Program to print Armstrong Numbers.\n",
        "n=input(\"Enter Number to check\")\n",
        "c=0\n",
        "b=0\n",
        "while c<len(n):\n",
        "   b=b+int(n[c])**len(n)\n",
        "   c=c+1\n",
        "if int(n)==b:\n",
        "    print(\"Armstrong Number\")\n",
        "else:\n",
        "    print(\"Not Armstrong Number\")"
      ],
      "metadata": {
        "colab": {
          "base_uri": "https://localhost:8080/"
        },
        "id": "u17AaoFHrbAw",
        "outputId": "e39bedd0-aa0c-40a0-e2e5-7bccee45cb02"
      },
      "execution_count": 26,
      "outputs": [
        {
          "output_type": "stream",
          "name": "stdout",
          "text": [
            "Enter Number to check1\n",
            "Armstrong Number\n"
          ]
        }
      ]
    },
    {
      "cell_type": "code",
      "source": [
        "#Program to print Fibonacci Series .\n",
        "\n",
        "n=int(input(\"Enter the number to print Fibonacci Series \")) #011235\n",
        "a=0\n",
        "b=1\n",
        "c=a+b\n",
        "print(a)\n",
        "print(b)\n",
        "\n",
        "while c<=n:\n",
        "  print(c)\n",
        "  a=b\n",
        "  b=c\n",
        "  c=a+b\n",
        "\n"
      ],
      "metadata": {
        "colab": {
          "base_uri": "https://localhost:8080/"
        },
        "id": "ascki3Tt2QPu",
        "outputId": "694bb927-2a9a-4bce-b7ab-38e249868432"
      },
      "execution_count": null,
      "outputs": [
        {
          "output_type": "stream",
          "name": "stdout",
          "text": [
            "Enter the number to print Fibonacci Series 7\n",
            "0\n",
            "1\n",
            "1\n",
            "2\n",
            "3\n",
            "5\n"
          ]
        }
      ]
    },
    {
      "cell_type": "code",
      "source": [
        "x=2\n",
        "y=2\n",
        "while y<10:\n",
        " x=x-2 #0 #-2 #-4\n",
        " print(x+2) #2 0 -2\n",
        " y=y+3\n",
        "\n"
      ],
      "metadata": {
        "colab": {
          "base_uri": "https://localhost:8080/"
        },
        "id": "uEM04V9mfOIX",
        "outputId": "6553d06e-f340-46ad-da71-0c74a6382f12"
      },
      "execution_count": 9,
      "outputs": [
        {
          "output_type": "stream",
          "name": "stdout",
          "text": [
            "2\n",
            "0\n",
            "-2\n"
          ]
        }
      ]
    },
    {
      "cell_type": "code",
      "source": [
        "# Program to print 10 Whole Numbers\n",
        "num=int(input(\"Enter the Positive number to start - \"))\n",
        "c=0  # Initialisation\n",
        "while c<=9:\n",
        "     print (num)\n",
        "     num+=1 #Block Code\n",
        "     c=c+1  # Updation\n"
      ],
      "metadata": {
        "colab": {
          "base_uri": "https://localhost:8080/"
        },
        "collapsed": true,
        "id": "LpWpGRBkfMal",
        "outputId": "bfbef01b-2687-4634-d1f3-656ee2e46d81"
      },
      "execution_count": null,
      "outputs": [
        {
          "output_type": "stream",
          "name": "stdout",
          "text": [
            "Enter the number to start - 0\n",
            "0\n",
            "1\n",
            "2\n",
            "3\n",
            "4\n",
            "5\n",
            "6\n",
            "7\n",
            "8\n",
            "9\n"
          ]
        }
      ]
    }
  ]
}