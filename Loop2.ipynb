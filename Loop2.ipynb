{
  "nbformat": 4,
  "nbformat_minor": 0,
  "metadata": {
    "colab": {
      "provenance": [],
      "authorship_tag": "ABX9TyO+F4xc0Gf8fOE6rPtwvOzM",
      "include_colab_link": true
    },
    "kernelspec": {
      "name": "python3",
      "display_name": "Python 3"
    },
    "language_info": {
      "name": "python"
    }
  },
  "cells": [
    {
      "cell_type": "markdown",
      "metadata": {
        "id": "view-in-github",
        "colab_type": "text"
      },
      "source": [
        "<a href=\"https://colab.research.google.com/github/Bhiserahul/Full-Stack_1/blob/main/Loop2.ipynb\" target=\"_parent\"><img src=\"https://colab.research.google.com/assets/colab-badge.svg\" alt=\"Open In Colab\"/></a>"
      ]
    },
    {
      "cell_type": "code",
      "execution_count": 8,
      "metadata": {
        "colab": {
          "base_uri": "https://localhost:8080/"
        },
        "id": "QJYROOZjYkM8",
        "outputId": "2f7cee5a-56cc-49e9-9b48-95006c6d0129"
      },
      "outputs": [
        {
          "output_type": "stream",
          "name": "stdout",
          "text": [
            "Enter the number to start - 3\n",
            "Enter the Even Number\n"
          ]
        }
      ],
      "source": [
        "# Program to print 10 even numbers\n",
        "num=int(input(\"Enter the number to start - \"))\n",
        "c=0  # Initialisation\n",
        "if num % 2 == 0:\n",
        "  while c<=8: #while Termination\n",
        "   num+=2 #Block Code\n",
        "   print (num)\n",
        "   c=c+1  # Updation\n",
        "else :\n",
        "  print (\"Enter the Even Number\")\n"
      ]
    },
    {
      "cell_type": "code",
      "source": [
        "# Program to print 10 Odd numbers\n",
        "num=int(input(\"Enter the number to start - \"))\n",
        "c=0  # Initialisation\n",
        "if num % 2 != 0:\n",
        "  while c<=8: #while Termination\n",
        "   num+=2 #Block Code\n",
        "   print (num)\n",
        "   c=c+1  # Updation\n",
        "else :\n",
        "  print (\"Enter the Odd Number\")"
      ],
      "metadata": {
        "colab": {
          "base_uri": "https://localhost:8080/"
        },
        "id": "GMXj5QWybP89",
        "outputId": "b41f1228-b7aa-4781-aedb-ec56841f0895"
      },
      "execution_count": 16,
      "outputs": [
        {
          "output_type": "stream",
          "name": "stdout",
          "text": [
            "Enter the number to start - -1\n",
            "1\n",
            "3\n",
            "5\n",
            "7\n",
            "9\n",
            "11\n",
            "13\n",
            "15\n",
            "17\n"
          ]
        }
      ]
    },
    {
      "cell_type": "code",
      "source": [
        "# Program to print 10 Natural numbers\n",
        "num=int(input(\"Enter the number to start - \"))\n",
        "c=0  # Initialisation\n",
        "if num !=0:\n",
        "  while c<=9:\n",
        "     print (num)\n",
        "     num+=1 #Block Code\n",
        "     c=c+1  # Updation\n",
        "else:\n",
        "  print (\"Enter the Natural Number\")"
      ],
      "metadata": {
        "colab": {
          "base_uri": "https://localhost:8080/"
        },
        "id": "hFZIG3ozdbOg",
        "outputId": "8307b662-f612-45bf-fd8a-3f4eb30066fe"
      },
      "execution_count": 14,
      "outputs": [
        {
          "output_type": "stream",
          "name": "stdout",
          "text": [
            "Enter the number to start - 1\n",
            "1\n",
            "2\n",
            "3\n",
            "4\n",
            "5\n",
            "6\n",
            "7\n",
            "8\n",
            "9\n",
            "10\n"
          ]
        }
      ]
    },
    {
      "cell_type": "code",
      "source": [
        "num=int(input(\"Enter the number to start - \"))\n",
        "c=0\n",
        "sum=0  # Initialisation\n",
        "if num !=0:\n",
        "  while c<=9:\n",
        "     num+=1 #Block Code\n",
        "     sum=sum+num\n",
        "     print(sum)\n",
        "     #print (num)\n",
        "     c=c+1  # Updation\n",
        "else:\n",
        "  print (\"Enter the Natural Number\")"
      ],
      "metadata": {
        "colab": {
          "base_uri": "https://localhost:8080/"
        },
        "id": "zwpGDRdqh0kt",
        "outputId": "f4291c0d-fd74-430d-8e34-2bc2ded8eaad"
      },
      "execution_count": 20,
      "outputs": [
        {
          "output_type": "stream",
          "name": "stdout",
          "text": [
            "Enter the number to start - 2\n",
            "3\n",
            "7\n",
            "12\n",
            "18\n",
            "25\n",
            "33\n",
            "42\n",
            "52\n",
            "63\n",
            "75\n"
          ]
        }
      ]
    },
    {
      "cell_type": "code",
      "source": [
        "# Program to print 10 Whole Numbers\n",
        "num=int(input(\"Enter the Positive number to start - \"))\n",
        "c=0  # Initialisation\n",
        "while c<=9:\n",
        "     print (num)\n",
        "     num+=1 #Block Code\n",
        "     c=c+1  # Updation\n"
      ],
      "metadata": {
        "colab": {
          "base_uri": "https://localhost:8080/"
        },
        "id": "LpWpGRBkfMal",
        "outputId": "bfbef01b-2687-4634-d1f3-656ee2e46d81"
      },
      "execution_count": 15,
      "outputs": [
        {
          "output_type": "stream",
          "name": "stdout",
          "text": [
            "Enter the number to start - 0\n",
            "0\n",
            "1\n",
            "2\n",
            "3\n",
            "4\n",
            "5\n",
            "6\n",
            "7\n",
            "8\n",
            "9\n"
          ]
        }
      ]
    }
  ]
}